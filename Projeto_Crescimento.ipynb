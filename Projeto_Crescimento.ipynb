{
  "cells": [
    {
      "cell_type": "markdown",
      "metadata": {
        "id": "view-in-github",
        "colab_type": "text"
      },
      "source": [
        "<a href=\"https://colab.research.google.com/github/CarlosReigota/Practice_Projects/blob/main/Projeto_Crescimento.ipynb\" target=\"_parent\"><img src=\"https://colab.research.google.com/assets/colab-badge.svg\" alt=\"Open In Colab\"/></a>"
      ]
    },
    {
      "cell_type": "code",
      "execution_count": null,
      "metadata": {
        "id": "ncb0p0FC4czo"
      },
      "outputs": [],
      "source": [
        "import pandas as pd\n",
        "import seaborn as sns\n",
        "import matplotlib.pyplot as plt"
      ]
    },
    {
      "cell_type": "code",
      "execution_count": null,
      "metadata": {
        "colab": {
          "background_save": true,
          "base_uri": "https://localhost:8080/",
          "height": 786
        },
        "id": "ux4AqK8X4j91",
        "outputId": "19d9e68a-71a5-4e07-a937-5f8b9de2fc9a"
      },
      "outputs": [
        {
          "name": "stdout",
          "output_type": "stream",
          "text": [
            "A população inicial é de 5 seres\n",
            "os 5 seres ficarão em observação por 100.0 horas\n"
          ]
        }
      ],
      "source": [
        "\n",
        "# Inserção de valores\n",
        "populacao = int(input('Insira a população inicial: '))\n",
        "if populacao == 1:\n",
        " print(f'A população inicial é de {populacao} ser')\n",
        "elif populacao > 1:\n",
        " print(f'A população inicial é de {populacao} seres')\n",
        "\n",
        "tempo = int(input('Insira a quantidade de horas que esta população será colocada em teste: '))\n",
        "if tempo <= 1 and populacao == 1:\n",
        "  print(f'o {populacao} ser, ficará em observação por {tempo} hora')\n",
        "elif tempo > 1 and populacao > 1:\n",
        "  print(f'os {populacao} seres ficarão em observação por {tempo} horas')\n",
        "else: print(f'Não é possível observar')\n",
        "\n",
        "#Criação da lista e da \"calculadora\"\n",
        "#for é o loop que faz com que a lista tenha o tamanho da variável tempo\n",
        "# dentro deste loop ele vai ficar dando append(adicionando um último elemento na lista) sempre multiplicando ou somando com algum número o elemento anterior por isso o -1\n",
        "lista_populacao = [populacao]\n",
        "for i in range(int(tempo)-1):\n",
        "  lista_populacao.append(lista_populacao[-1]*1.50) # taxa de crescimento\n",
        "\n",
        "lista_populacao # checagem de funcionamento da lista\n",
        "\n",
        "lispopu = pd.DataFrame(lista_populacao) # passagem da lista para dataframe\n",
        "\n",
        "lispopu.columns = [\"População\"] # dando nome à coluna\n",
        "\n",
        "#finalmente gerando a tabela\n",
        "plt.figure(figsize=(16,8))\n",
        "sns.lineplot(data = lispopu,\n",
        "             palette = \"rocket\",\n",
        "             )\n",
        "plt.title(\"Crescimento relação Tempo\")"
      ]
    },
    {
      "cell_type": "code",
      "execution_count": null,
      "metadata": {
        "id": "YdthtkCmKNPo"
      },
      "outputs": [],
      "source": []
    }
  ],
  "metadata": {
    "colab": {
      "provenance": [],
      "include_colab_link": true
    },
    "kernelspec": {
      "display_name": "Python 3",
      "name": "python3"
    },
    "language_info": {
      "name": "python"
    }
  },
  "nbformat": 4,
  "nbformat_minor": 0
}